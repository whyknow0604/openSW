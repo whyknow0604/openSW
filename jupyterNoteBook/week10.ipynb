{
 "cells": [
  {
   "cell_type": "markdown",
   "id": "52d8b2e7",
   "metadata": {},
   "source": [
    "x 값을 입력 받아 다음 2차 방정식의 y값을 계산하는 프로그램을 작성하시오.\n",
    " - 방정식: y = 3x^2 + 5x + 3\n",
    " - 입력 형식: x = 2.1\n",
    " - 출력형식: 7 = 26.73"
   ]
  },
  {
   "cell_type": "code",
   "execution_count": 5,
   "id": "f1580a59",
   "metadata": {},
   "outputs": [
    {
     "name": "stdout",
     "output_type": "stream",
     "text": [
      "x = 2.1\n",
      "y = 26.73\n"
     ]
    }
   ],
   "source": [
    "x = float(input('x = '));\n",
    "y = 3.0 * x * x + 5.0*x + 3.0;\n",
    "print('y = {0:.2f}'.format(y));"
   ]
  },
  {
   "cell_type": "markdown",
   "id": "9d62a687",
   "metadata": {},
   "source": [
    "반지름을 입력 받아 원의 둘레와 넓이를 구하는 프로그램을 작성하시오\n",
    " - 원주율 : 3.14\n",
    " - 입력 형식: r = 1\n",
    " - 출력 형식: 반지름 1.0인 원의 넓이는 3.1이고 둘레는 6.3 입니다."
   ]
  },
  {
   "cell_type": "code",
   "execution_count": 6,
   "id": "0fff95fa",
   "metadata": {},
   "outputs": [
    {
     "name": "stdout",
     "output_type": "stream",
     "text": [
      "r=1\n",
      "반지름 1.0인 원의 넓이는 3.1이고 둘레는 6.3 입니다.\n"
     ]
    }
   ],
   "source": [
    "pi = 3.14;\n",
    "r = float(input('r='));\n",
    "print('반지름 {0:.1f}인 원의 넓이는 {1:.1f}이고 둘레는 {2:.1f} 입니다.'.format(r,r*r*pi,2*pi*r));"
   ]
  },
  {
   "cell_type": "markdown",
   "id": "da31a651",
   "metadata": {},
   "source": [
    "국어, 영어, 수학 점수를 입력받아서 평균을 계산하고 평균에 따라 등급을 부여하는 프로그램을 작성 하시오."
   ]
  },
  {
   "cell_type": "code",
   "execution_count": null,
   "id": "b4b96a66",
   "metadata": {},
   "outputs": [],
   "source": [
    "kor = int(input('국어= '));\n",
    "eng = int(input('영어= '));\n",
    "math = int(input('수학= '));\n",
    "avg = (kor+eng+math)/3;\n",
    "if 90 < avg:\n",
    "    print('평균은 {0:.1f}이며, 등급은 {1}입니다.'.format(avg,'A'));\n",
    "elif 80 < avg:\n",
    "    print('평균은 {0:.1f}이며, 등급은 {1}입니다.'.format(avg,'B'));\n",
    "elif 70 < avg:\n",
    "    print('평균은 {0:.1f}이며, 등급은 {1}입니다.'.format(avg,'C'));\n",
    "else:\n",
    "    print('평균은 {0:.1f}이며, 등급은 {1}입니다.'.format(avg,'F'));"
   ]
  },
  {
   "cell_type": "markdown",
   "id": "eecbe279",
   "metadata": {},
   "source": [
    "라인 수를 입력 받아서 아래와 같은 모양을 출력하는 프로그램을 작성 하시오."
   ]
  },
  {
   "cell_type": "code",
   "execution_count": 5,
   "id": "b324fce3",
   "metadata": {},
   "outputs": [
    {
     "name": "stdout",
     "output_type": "stream",
     "text": [
      "lines= 10\n",
      "1000000001\n",
      "0100000010\n",
      "0010000100\n",
      "0001001000\n",
      "0000110000\n",
      "0000110000\n",
      "0001001000\n",
      "0010000100\n",
      "0100000010\n",
      "1000000001\n"
     ]
    }
   ],
   "source": [
    "lines = int(input('lines= '));\n",
    "for i in range(0,lines):\n",
    "    str = \"\"\n",
    "    for j in range(0,lines):\n",
    "        if(i == j) or ((lines-1)-i == j):\n",
    "            str += \"1\"\n",
    "        else:\n",
    "            str += \"0\"\n",
    "    print(str)"
   ]
  },
  {
   "cell_type": "markdown",
   "id": "8e144dc0",
   "metadata": {},
   "source": [
    "아래 문자열을 대상으로 지정된 기능을 수행하는 프로그램을 작성하시오\n",
    " - 문자열 양쪽의 공백을 제거\n",
    " - \"나\"를 \"너\"로 변환"
   ]
  },
  {
   "cell_type": "code",
   "execution_count": 6,
   "id": "24312db9",
   "metadata": {},
   "outputs": [
    {
     "name": "stdout",
     "output_type": "stream",
     "text": [
      "죽는 날까지 하늘을 우러러\n",
      "한 점 부끄럼이 없기를,\n",
      "잎새에 이는 바람에도\n",
      "너는 괴로워했다.\n",
      "벌을 노래하는 마음으로\n",
      "모든 죽어가는 것을 사랑해야지\n",
      "그리고 너한테 주어진 길을\n",
      "걸어가야겠다.\n",
      "오늘 밤에도 별이 바람에 스치운다.\n"
     ]
    }
   ],
   "source": [
    "str= \"\"\" 죽는 날까지 하늘을 우러러\n",
    "한 점 부끄럼이 없기를,\n",
    "잎새에 이는 바람에도\n",
    "나는 괴로워했다.\n",
    "벌을 노래하는 마음으로\n",
    "모든 죽어가는 것을 사랑해야지\n",
    "그리고 나한테 주어진 길을\n",
    "걸어가야겠다.\n",
    "오늘 밤에도 별이 바람에 스치운다.   \"\"\"\n",
    "str=str.strip()\n",
    "str=str.replace(\"나\",\"너\")\n",
    "print(str)\n",
    "\n"
   ]
  },
  {
   "cell_type": "markdown",
   "id": "1ac620ba",
   "metadata": {},
   "source": [
    "반복문과 조건문을 사용하여 입력된 정수들 중에 가장 큰 값을 출력하는 프로그램을 작성하시오."
   ]
  },
  {
   "cell_type": "code",
   "execution_count": 11,
   "id": "977896a2",
   "metadata": {},
   "outputs": [
    {
     "name": "stdout",
     "output_type": "stream",
     "text": [
      "Numbers? 10 456 87 78\n",
      "456\n"
     ]
    }
   ],
   "source": [
    "str = input(\"Numbers? \")\n",
    "strlist = str.split()\n",
    "max = 0\n",
    "for i in strlist:\n",
    "    num = int(i)\n",
    "    if(max < num):\n",
    "        max = num\n",
    "\n",
    "print(max)"
   ]
  },
  {
   "cell_type": "markdown",
   "id": "af7e5c9c",
   "metadata": {},
   "source": [
    "입력 받은 문자열을 다음과 같은 방법으로 암호화하고 복호화하는 프로그램을 작성하시오.\n",
    " - 암호화\n",
    "  공백(스페이스, 탭)으로 분리하고 역순으로 배치\n",
    "  아스키 코드를 key만큼 증가\n",
    " - 복호화\n",
    "  아스키 코드를 key 감소\n",
    "  공백(스페이스, 탭)으로 분리하고 역순으로 배치\n",
    " - 예제: key가 1인 경우\n",
    "  \"abc def\" -> 암호화 -> \"efg!bcd\"\n",
    "  \"efg!bcd\" -> 복호화 -> \"abc def\""
   ]
  },
  {
   "cell_type": "code",
   "execution_count": 2,
   "id": "c9807d9c",
   "metadata": {},
   "outputs": [
    {
     "name": "stdout",
     "output_type": "stream",
     "text": [
      "abc def is encoded into efg!bcd\n",
      "efg!bcd is decoded into abc def\n"
     ]
    }
   ],
   "source": [
    "def conv_asc(str, num):\n",
    "    new_str = \"\"\n",
    "    for i in str:\n",
    "        code = ord(i)\n",
    "        new_str += chr(code+num)\n",
    "    return new_str\n",
    "\n",
    "def enc(str, key):\n",
    "    list = str.split()\n",
    "    list = list[::-1]\n",
    "    new_str = \" \".join(list)\n",
    "    return conv_asc(new_str,key)\n",
    "\n",
    "def dec(str,key):\n",
    "    str = conv_asc(str,key*-1)\n",
    "    list = str.split()\n",
    "    list = list[::-1]\n",
    "    new_str = \" \".join(list)\n",
    "    return new_str\n",
    "\n",
    "str = \"abc def\"\n",
    "enc_str = enc(str,1)\n",
    "print(str + \" is encoded into \" + enc_str)\n",
    "\n",
    "dec_str = dec(enc_str,1)\n",
    "print(enc_str + \" is decoded into \" + dec_str)"
   ]
  }
 ],
 "metadata": {
  "kernelspec": {
   "display_name": "Python 3 (ipykernel)",
   "language": "python",
   "name": "python3"
  },
  "language_info": {
   "codemirror_mode": {
    "name": "ipython",
    "version": 3
   },
   "file_extension": ".py",
   "mimetype": "text/x-python",
   "name": "python",
   "nbconvert_exporter": "python",
   "pygments_lexer": "ipython3",
   "version": "3.10.4"
  }
 },
 "nbformat": 4,
 "nbformat_minor": 5
}
