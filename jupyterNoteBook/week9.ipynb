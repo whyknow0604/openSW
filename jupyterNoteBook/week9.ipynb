{
 "cells": [
  {
   "cell_type": "markdown",
   "id": "9f43f4c6",
   "metadata": {},
   "source": [
    "문제 1\n",
    "반지름이 5인 원의 면적과 둘레를 계산 하시오.\n",
    "- 원주율은 3.14로 함"
   ]
  },
  {
   "cell_type": "code",
   "execution_count": 6,
   "id": "d19e3ee6",
   "metadata": {},
   "outputs": [
    {
     "name": "stdout",
     "output_type": "stream",
     "text": [
      "면적 : 78.5\n",
      "둘레 : 31.400000000000002\n"
     ]
    }
   ],
   "source": [
    "r = 5;\n",
    "pi = 3.14;\n",
    "\n",
    "dimensions = r * r * pi;\n",
    "circumference = 2* pi * r;\n",
    "\n",
    "print(\"면적 :\", dimensions);\n",
    "print(\"둘레 :\", circumference);"
   ]
  },
  {
   "cell_type": "markdown",
   "id": "90990527",
   "metadata": {},
   "source": [
    "문제 2\n",
    "복소수 1+3i 와 2+1i의 합을 계산하고, 계산 결과가 3+4i가 맞는지 결정하는 프로그램을 작성하시오.\n",
    " - 비교 연산 방법; a == b"
   ]
  },
  {
   "cell_type": "code",
   "execution_count": 11,
   "id": "ec446129",
   "metadata": {},
   "outputs": [
    {
     "data": {
      "text/plain": [
       "((3+4j), True)"
      ]
     },
     "execution_count": 11,
     "metadata": {},
     "output_type": "execute_result"
    }
   ],
   "source": [
    "num1 = 1 + 3j;\n",
    "num2 = 2 + 1j;\n",
    "num3 = 3 + 4j;\n",
    "\n",
    "num1+num2,num1+num2 == num3\n"
   ]
  },
  {
   "cell_type": "markdown",
   "id": "311ba1fe",
   "metadata": {},
   "source": [
    "문제3 아래와 같은 리스트의 내용을 역순으로 출력하는 프로그램을 작성하시오.\n",
    " - nums = [1,2,3,4,5]\n",
    " - strs = ['abc', 'def','ghi']"
   ]
  },
  {
   "cell_type": "code",
   "execution_count": 13,
   "id": "29b5e600",
   "metadata": {},
   "outputs": [
    {
     "name": "stdout",
     "output_type": "stream",
     "text": [
      "[5, 4, 3, 2, 1]\n",
      "None\n"
     ]
    }
   ],
   "source": [
    "nums = [1,2,3,4,5]\n",
    "strs = ['abc', 'def','ghi']\n",
    "\n",
    "print(nums[::-1])\n",
    "print(strs[::-1])"
   ]
  }
 ],
 "metadata": {
  "kernelspec": {
   "display_name": "Python 3 (ipykernel)",
   "language": "python",
   "name": "python3"
  },
  "language_info": {
   "codemirror_mode": {
    "name": "ipython",
    "version": 3
   },
   "file_extension": ".py",
   "mimetype": "text/x-python",
   "name": "python",
   "nbconvert_exporter": "python",
   "pygments_lexer": "ipython3",
   "version": "3.10.4"
  }
 },
 "nbformat": 4,
 "nbformat_minor": 5
}
