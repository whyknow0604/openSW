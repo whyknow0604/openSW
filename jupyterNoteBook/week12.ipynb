{
 "cells": [
  {
   "cell_type": "code",
   "execution_count": 5,
   "id": "4780edd1",
   "metadata": {},
   "outputs": [
    {
     "name": "stdout",
     "output_type": "stream",
     "text": [
      "일교차가 가장 큰 날\n",
      "\n",
      "2021-04-21 \n",
      "\n",
      "최저기온이 가장 낮은 날\n",
      "\n",
      "2021-01-08 \n",
      "\n",
      "최고기온이 가장 높은 날\n",
      "\n",
      "2021-07-24 \n",
      "\n"
     ]
    }
   ],
   "source": [
    "import csv\n",
    "f = open('seoul.csv')\n",
    "data = csv.reader(f)\n",
    "temp_diff = 0\n",
    "max_temp = -999\n",
    "min_temp = 999\n",
    "\n",
    "temp_diff_date = ''\n",
    "max_temp_date = ''\n",
    "min_temp_date = ''\n",
    "header = next(data)\n",
    "for row in data:\n",
    "    if float(row[-1]) > max_temp:\n",
    "        max_temp = float(row[-1])\n",
    "        max_temp_date = row[0]\n",
    "    if float(row[-2]) < min_temp:\n",
    "        min_temp = float(row[-2])\n",
    "        min_temp_date = row[0]\n",
    "    if (float(row[-1]) - float(row[-2])) > temp_diff:\n",
    "        temp_diff = (float(row[-1]) - float(row[-2]))\n",
    "        temp_diff_date = row[0]\n",
    "f.close()\n",
    "\n",
    "print('일교차가 가장 큰 날\\n')\n",
    "print(temp_diff_date,'\\n')\n",
    "print('최저기온이 가장 낮은 날\\n')\n",
    "print(min_temp_date,'\\n')\n",
    "print('최고기온이 가장 높은 날\\n')\n",
    "print(max_temp_date,'\\n')"
   ]
  },
  {
   "cell_type": "code",
   "execution_count": 29,
   "id": "c5d1989e",
   "metadata": {},
   "outputs": [
    {
     "name": "stdout",
     "output_type": "stream",
     "text": [
      "이용객이 가장 많은 역 순위\n",
      "\n",
      "1. 강남 ( 4364436 명) \n",
      "\n",
      "2. 신림 ( 3412199 명) \n",
      "\n",
      "3. 홍대입구 ( 3235236 명) \n",
      "\n",
      "이용객이 가장 적은 역 순위\n",
      "\n",
      "1. 검암 ( 2 명) \n",
      "\n",
      "2. 계양 ( 8 명) \n",
      "\n",
      "3. 신내 ( 8 명) \n",
      "\n"
     ]
    }
   ],
   "source": [
    "import csv\n",
    "f = open('subwayuse.csv')\n",
    "data = csv.reader(f)\n",
    "max_use_1 = 3\n",
    "max_use_2 = 2\n",
    "max_use_3 = 1\n",
    "\n",
    "max_use_1_name = ''\n",
    "max_use_2_name = ''\n",
    "max_use_3_name = ''\n",
    "\n",
    "min_use_1 = 300\n",
    "min_use_2 = 200\n",
    "min_use_3 = 100\n",
    "\n",
    "min_use_1_name = ''\n",
    "min_use_2_name = ''\n",
    "min_use_3_name = ''\n",
    "\n",
    "header = next(data)\n",
    "\n",
    "for row in data:\n",
    "    if max_use_3 < int(row[-1])+int(row[-2]):\n",
    "        if max_use_2 < int(row[-1])+int(row[-2]):\n",
    "            if max_use_1 < int(row[-1])+int(row[-2]):\n",
    "                max_use_1 = int(row[-1])+int(row[-2])\n",
    "                max_use_1_name = row[-3]\n",
    "            else:\n",
    "                max_use_2 = int(row[-1])+int(row[-2])\n",
    "                max_use_2_name = row[-3]\n",
    "        else:\n",
    "            max_use_3 = int(row[-1])+int(row[-2])\n",
    "            max_use_3_name = row[-3]\n",
    "    \n",
    "    if min_use_3 > int(row[-1])+int(row[-2]):\n",
    "        if min_use_2 > int(row[-1])+int(row[-2]):\n",
    "            if min_use_1 > int(row[-1])+int(row[-2]):\n",
    "                min_use_1 = int(row[-1])+int(row[-2])\n",
    "                min_use_1_name = row[-3]\n",
    "            else:\n",
    "                min_use_2 = int(row[-1])+int(row[-2])\n",
    "                min_use_2_name = row[-3]\n",
    "        else:\n",
    "            min_use_3 = int(row[-1])+int(row[-2])\n",
    "            min_use_3_name = row[-3]\n",
    "\n",
    "print('이용객이 가장 많은 역 순위\\n')\n",
    "print('1.',max_use_1_name,'(',max_use_1,'명)','\\n')        \n",
    "print('2.',max_use_2_name,'(',max_use_2,'명)','\\n')\n",
    "print('3.',max_use_3_name,'(',max_use_3,'명)','\\n')\n",
    "\n",
    "print('이용객이 가장 적은 역 순위\\n')\n",
    "print('1.',min_use_1_name,'(',min_use_1,'명)','\\n')\n",
    "print('2.',min_use_2_name,'(',min_use_2,'명)','\\n')\n",
    "print('3.',min_use_3_name,'(',min_use_3,'명)','\\n')\n",
    "\n",
    "\n"
   ]
  },
  {
   "cell_type": "code",
   "execution_count": null,
   "id": "605fa917",
   "metadata": {},
   "outputs": [],
   "source": []
  }
 ],
 "metadata": {
  "kernelspec": {
   "display_name": "Python 3 (ipykernel)",
   "language": "python",
   "name": "python3"
  },
  "language_info": {
   "codemirror_mode": {
    "name": "ipython",
    "version": 3
   },
   "file_extension": ".py",
   "mimetype": "text/x-python",
   "name": "python",
   "nbconvert_exporter": "python",
   "pygments_lexer": "ipython3",
   "version": "3.9.13"
  }
 },
 "nbformat": 4,
 "nbformat_minor": 5
}
