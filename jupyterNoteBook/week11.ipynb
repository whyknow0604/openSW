{
 "cells": [
  {
   "cell_type": "markdown",
   "id": "9e4959d1",
   "metadata": {},
   "source": [
    "1번 문제\n"
   ]
  },
  {
   "cell_type": "code",
   "execution_count": 3,
   "id": "c74ccfb3",
   "metadata": {},
   "outputs": [],
   "source": [
    "f = open(\"README.txt\",\"r\")\n",
    "dic = {}\n",
    "\n",
    "for line in f:\n",
    "\n",
    "    line = line.strip()\n",
    "    words = line.split()\n",
    "\n",
    "    for w in words:\n",
    "\n",
    "        if w in dic:\n",
    "            dic[w] += 1\n",
    "        else:\n",
    "            dic[w] = 1\n",
    "\n",
    "for w in dic:\n",
    "    print(w,dic[w])\n"
   ]
  },
  {
   "cell_type": "markdown",
   "id": "01c1ebb8",
   "metadata": {},
   "source": [
    "2번 문제"
   ]
  },
  {
   "cell_type": "code",
   "execution_count": 2,
   "id": "9a1b3e25",
   "metadata": {},
   "outputs": [
    {
     "name": "stdout",
     "output_type": "stream",
     "text": [
      "(1 2)\n",
      "(3 4)\n",
      "(2 3)\n",
      "(4 5)\n"
     ]
    }
   ],
   "source": [
    "class Point:\n",
    "    def __init__(self, x,y):\n",
    "        self.x = x\n",
    "        self.y = y\n",
    "    def move(self, dx, dy):\n",
    "        self.x += dx\n",
    "        self.y += dy\n",
    "    def show(self):\n",
    "        print(\"({0:d} {1:d})\".format(self.x, self.y))\n",
    "\n",
    "\n",
    "class Box(Point):\n",
    "    def __init__(self, p1, p2):\n",
    "        self.p1 = p1\n",
    "        self.p2 = p2\n",
    "    def move(self,dx,dy):\n",
    "        self.p1.move(dx,dy)\n",
    "        self.p2.move(dx,dy)\n",
    "    def show(self):\n",
    "        self.p1.show()\n",
    "        self.p2.show()\n",
    "\n",
    "\n",
    "\n",
    "p1 = Point(1,2)\n",
    "p1.show()\n",
    "\n",
    "p2 = Point(3,4)\n",
    "p2.show()\n",
    "\n",
    "b = Box(p1,p2)\n",
    "b.move(1,1)\n",
    "b.show()\n"
   ]
  },
  {
   "cell_type": "code",
   "execution_count": null,
   "id": "fbd96786",
   "metadata": {},
   "outputs": [],
   "source": []
  }
 ],
 "metadata": {
  "kernelspec": {
   "display_name": "Python 3 (ipykernel)",
   "language": "python",
   "name": "python3"
  },
  "language_info": {
   "codemirror_mode": {
    "name": "ipython",
    "version": 3
   },
   "file_extension": ".py",
   "mimetype": "text/x-python",
   "name": "python",
   "nbconvert_exporter": "python",
   "pygments_lexer": "ipython3",
   "version": "3.9.13"
  }
 },
 "nbformat": 4,
 "nbformat_minor": 5
}
