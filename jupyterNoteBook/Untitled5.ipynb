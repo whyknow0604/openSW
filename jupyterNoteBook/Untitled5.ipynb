{
 "cells": [
  {
   "cell_type": "code",
   "execution_count": 40,
   "id": "14796e28",
   "metadata": {},
   "outputs": [
    {
     "ename": "KeyError",
     "evalue": "'2021-02-23'",
     "output_type": "error",
     "traceback": [
      "\u001b[1;31m---------------------------------------------------------------------------\u001b[0m",
      "\u001b[1;31mKeyError\u001b[0m                                  Traceback (most recent call last)",
      "Input \u001b[1;32mIn [40]\u001b[0m, in \u001b[0;36m<cell line: 13>\u001b[1;34m()\u001b[0m\n\u001b[0;32m     16\u001b[0m     daily \u001b[38;5;241m=\u001b[39m \u001b[38;5;28mfloat\u001b[39m(row[\u001b[38;5;241m7\u001b[39m])\n\u001b[0;32m     17\u001b[0m \u001b[38;5;28;01mif\u001b[39;00m daily \u001b[38;5;241m!=\u001b[39m \u001b[38;5;241m0.0\u001b[39m:\n\u001b[1;32m---> 18\u001b[0m     \u001b[38;5;28;01mif\u001b[39;00m \u001b[43mdateDic\u001b[49m\u001b[43m[\u001b[49m\u001b[43mrow\u001b[49m\u001b[43m[\u001b[49m\u001b[38;5;241;43m2\u001b[39;49m\u001b[43m]\u001b[49m\u001b[43m]\u001b[49m \u001b[38;5;129;01min\u001b[39;00m dateDic:\n\u001b[0;32m     19\u001b[0m             dateDic[row[\u001b[38;5;241m2\u001b[39m]] \u001b[38;5;241m+\u001b[39m\u001b[38;5;241m=\u001b[39m daily\n\u001b[0;32m     20\u001b[0m     \u001b[38;5;28;01melse\u001b[39;00m:\n",
      "\u001b[1;31mKeyError\u001b[0m: '2021-02-23'"
     ]
    }
   ],
   "source": [
    "#7\n",
    "import csv\n",
    "f = open('country_vaccinations.csv')\n",
    "data = csv.reader(f)\n",
    "header = next(data)\n",
    "\n",
    "highV = 0\n",
    "lowV = 999999\n",
    "highV_date = ''\n",
    "lowV_date = ''\n",
    "a = next(data)\n",
    "dateDic = {}\n",
    "for row in data:\n",
    "    daily = 0.0\n",
    "    if row[7] != '':\n",
    "        daily = float(row[7])\n",
    "    if daily != 0.0:\n",
    "        if dateDic[row[2]] in dateDic:\n",
    "                dateDic[row[2]] += daily\n",
    "        else:\n",
    "            dateDic[row[2]] = 0\n",
    "\n",
    "dateDicKeys = dateDicKeys.keys()\n",
    "dateDicKeyList = list(dateDicKeys)\n",
    "\n",
    "for i in dateDicKeyList:\n",
    "    if dateDic[i] > highV:\n",
    "        highV = dateDic[i]\n",
    "        highV_date = i\n",
    "    if dateDic[i] < low:\n",
    "        lowV = dateDic[i]\n",
    "        lowV_date = i\n",
    "    \n",
    "print(highV_date)\n",
    "print(lowV_date)\n",
    "f.close()"
   ]
  }
 ],
 "metadata": {
  "kernelspec": {
   "display_name": "Python 3 (ipykernel)",
   "language": "python",
   "name": "python3"
  },
  "language_info": {
   "codemirror_mode": {
    "name": "ipython",
    "version": 3
   },
   "file_extension": ".py",
   "mimetype": "text/x-python",
   "name": "python",
   "nbconvert_exporter": "python",
   "pygments_lexer": "ipython3",
   "version": "3.10.4"
  }
 },
 "nbformat": 4,
 "nbformat_minor": 5
}
